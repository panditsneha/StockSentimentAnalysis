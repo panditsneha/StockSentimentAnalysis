{
 "cells": [
  {
   "cell_type": "code",
   "execution_count": 1,
   "id": "50231fa1",
   "metadata": {},
   "outputs": [],
   "source": [
    "import pandas as pd\n",
    "import string\n",
    "from nltk.corpus import stopwords"
   ]
  },
  {
   "cell_type": "code",
   "execution_count": 2,
   "id": "ec1b2db6",
   "metadata": {},
   "outputs": [
    {
     "data": {
      "text/plain": [
       "0    Kickers on my watchlist XIDE TIT SOQ PNK CPW B...\n",
       "1    user: AAP MOVIE. 55% return for the FEA/GEED i...\n",
       "2    user I'd be afraid to short AMZN - they are lo...\n",
       "3                                    MNTA Over 12.00  \n",
       "4                                     OI  Over 21.37  \n",
       "Name: Text, dtype: object"
      ]
     },
     "execution_count": 2,
     "metadata": {},
     "output_type": "execute_result"
    }
   ],
   "source": [
    "df = pd.read_csv('stock_data.csv')\n",
    "df.head()\n",
    "df['Text'].head()"
   ]
  },
  {
   "cell_type": "code",
   "execution_count": 3,
   "id": "1480e73c",
   "metadata": {},
   "outputs": [
    {
     "data": {
      "text/plain": [
       "(5791, 2)"
      ]
     },
     "execution_count": 3,
     "metadata": {},
     "output_type": "execute_result"
    }
   ],
   "source": [
    "df.shape"
   ]
  },
  {
   "cell_type": "code",
   "execution_count": 4,
   "id": "3da775e6",
   "metadata": {},
   "outputs": [
    {
     "data": {
      "text/plain": [
       "Text         0\n",
       "Sentiment    0\n",
       "dtype: int64"
      ]
     },
     "execution_count": 4,
     "metadata": {},
     "output_type": "execute_result"
    }
   ],
   "source": [
    "df.isnull().sum()"
   ]
  },
  {
   "cell_type": "code",
   "execution_count": 5,
   "id": "64624732",
   "metadata": {},
   "outputs": [],
   "source": [
    "df=df.dropna(axis=1)"
   ]
  },
  {
   "cell_type": "code",
   "execution_count": 6,
   "id": "e66465be",
   "metadata": {},
   "outputs": [
    {
     "data": {
      "text/plain": [
       "0       Kickers on my watchlist XIDE TIT SOQ PNK CPW B...\n",
       "1       user: AAP MOVIE. 55% return for the FEA/GEED i...\n",
       "2       user I'd be afraid to short AMZN - they are lo...\n",
       "3                                       MNTA Over 12.00  \n",
       "4                                        OI  Over 21.37  \n",
       "                              ...                        \n",
       "5786    Industry body CII said #discoms are likely to ...\n",
       "5787    #Gold prices slip below Rs 46,000 as #investor...\n",
       "5788    Workers at Bajaj Auto have agreed to a 10% wag...\n",
       "5789    #Sharemarket LIVE: Sensex off day’s high, up 6...\n",
       "5790    #Sensex, #Nifty climb off day's highs, still u...\n",
       "Name: Text, Length: 5791, dtype: object"
      ]
     },
     "execution_count": 6,
     "metadata": {},
     "output_type": "execute_result"
    }
   ],
   "source": [
    "df['Text']"
   ]
  },
  {
   "cell_type": "code",
   "execution_count": 7,
   "id": "9b93d50f",
   "metadata": {},
   "outputs": [],
   "source": [
    "def process_text(text):\n",
    "    words = [word for word in text if word not in string.punctuation]\n",
    "    words = ''.join(words)\n",
    "    \n",
    "    clean_words = [word.lower() for word in words.split() if word.lower() not in stopwords.words('english')]  \n",
    "    return clean_words"
   ]
  },
  {
   "cell_type": "code",
   "execution_count": 8,
   "id": "880f7211",
   "metadata": {},
   "outputs": [
    {
     "data": {
      "text/plain": [
       "0    [kickers, watchlist, xide, tit, soq, pnk, cpw,...\n",
       "1    [user, aap, movie, 55, return, feageed, indica...\n",
       "2    [user, id, afraid, short, amzn, looking, like,...\n",
       "3                                         [mnta, 1200]\n",
       "4                                           [oi, 2137]\n",
       "Name: Text, dtype: object"
      ]
     },
     "execution_count": 8,
     "metadata": {},
     "output_type": "execute_result"
    }
   ],
   "source": [
    "df['Text'].head().apply(process_text)"
   ]
  },
  {
   "cell_type": "code",
   "execution_count": 9,
   "id": "bc27d83e",
   "metadata": {},
   "outputs": [],
   "source": [
    "# creating a bag of word\n",
    "from sklearn.feature_extraction.text import CountVectorizer\n",
    "bow = CountVectorizer(analyzer = process_text).fit_transform(df['Text'])"
   ]
  },
  {
   "cell_type": "code",
   "execution_count": 10,
   "id": "e3b0e4fb",
   "metadata": {},
   "outputs": [
    {
     "name": "stdout",
     "output_type": "stream",
     "text": [
      "  (0, 7083)\t1\n",
      "  (0, 11228)\t1\n",
      "  (0, 11493)\t1\n",
      "  (0, 10655)\t1\n",
      "  (0, 9986)\t1\n",
      "  (0, 8665)\t1\n",
      "  (0, 3731)\t1\n",
      "  (0, 2966)\t1\n",
      "  (0, 2196)\t1\n",
      "  (0, 10753)\t1\n",
      "  (0, 7608)\t2\n",
      "  (0, 46)\t1\n",
      "  (0, 585)\t1\n",
      "  (0, 9596)\t1\n",
      "  (0, 8805)\t1\n",
      "  (0, 8732)\t1\n"
     ]
    }
   ],
   "source": [
    "print(bow[0])"
   ]
  },
  {
   "cell_type": "code",
   "execution_count": 11,
   "id": "275fe17b",
   "metadata": {},
   "outputs": [],
   "source": [
    "# dividing the dataset into training and testing dataset\n",
    "\n",
    "from sklearn.model_selection import train_test_split\n",
    "x_train,x_test,y_train,y_test = train_test_split(bow,df['Sentiment'],test_size=0.2)"
   ]
  },
  {
   "cell_type": "code",
   "execution_count": 12,
   "id": "82ad453e",
   "metadata": {},
   "outputs": [],
   "source": [
    "from sklearn.ensemble import RandomForestClassifier\n",
    "model = RandomForestClassifier().fit(x_train,y_train)"
   ]
  },
  {
   "cell_type": "code",
   "execution_count": 13,
   "id": "8bdb3221",
   "metadata": {},
   "outputs": [],
   "source": [
    "pred = model.predict(x_test)"
   ]
  },
  {
   "cell_type": "code",
   "execution_count": 14,
   "id": "0ea42272",
   "metadata": {},
   "outputs": [
    {
     "data": {
      "text/plain": [
       "0.7782571182053495"
      ]
     },
     "execution_count": 14,
     "metadata": {},
     "output_type": "execute_result"
    }
   ],
   "source": [
    "from sklearn.metrics import accuracy_score\n",
    "accuracy_score(pred,y_test)"
   ]
  }
 ],
 "metadata": {
  "kernelspec": {
   "display_name": "Python 3",
   "language": "python",
   "name": "python3"
  },
  "language_info": {
   "codemirror_mode": {
    "name": "ipython",
    "version": 3
   },
   "file_extension": ".py",
   "mimetype": "text/x-python",
   "name": "python",
   "nbconvert_exporter": "python",
   "pygments_lexer": "ipython3",
   "version": "3.8.8"
  }
 },
 "nbformat": 4,
 "nbformat_minor": 5
}
